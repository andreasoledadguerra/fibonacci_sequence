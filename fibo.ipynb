{
 "cells": [
  {
   "cell_type": "markdown",
   "metadata": {},
   "source": [
    "- Crear una función que genere los n primeros números de la sucesión de fibonacci.\n",
    "- Una función que haga el plot de la sucesión.\n",
    "- Calcular la diferencia entre cada número de la sucesión de fibonacci \"(a_n+1) - (a_n)\", y graficar esas diferencias (Debería tender al número phi=https://www.google.com/search?q=numero+phi&oq=numero+phi&gs_lcrp=EgZjaHJvbWUyBggAEEUYOdIBCDI1NDVqMGoxqAIAsAIA&sourceid=chrome&ie=UTF-8)\n",
    "- Agregar al plot de las diferencias una recta horizontal punteada para el valor de phi=1,618033988749894... y ver si las diferencias tienden a phi."
   ]
  },
  {
   "cell_type": "code",
   "execution_count": null,
   "metadata": {},
   "outputs": [],
   "source": [
    "def fibonacci_sequence(n: int):\n",
    "    fibonacci_numbers = []\n",
    "    while n >= 0:\n",
    "        fibonacci_numbers.append()\n",
    "        return n + n+1\n",
    "        \n",
    "print(f\"The first numbers of Fibonacci sequence are \")"
   ]
  },
  {
   "cell_type": "code",
   "execution_count": null,
   "metadata": {},
   "outputs": [],
   "source": []
  }
 ],
 "metadata": {
  "kernelspec": {
   "display_name": "Python 3",
   "language": "python",
   "name": "python3"
  },
  "language_info": {
   "name": "python",
   "version": "3.12.4"
  }
 },
 "nbformat": 4,
 "nbformat_minor": 2
}
