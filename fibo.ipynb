{
 "cells": [
  {
   "cell_type": "markdown",
   "metadata": {},
   "source": [
    "- Crear una función que genere los n primeros números de la sucesión de fibonacci.\n",
    "- Una función que haga el plot de la sucesión.\n",
    "- Calcular la diferencia entre cada número de la sucesión de fibonacci \"(a_n+1) - (a_n)\", y graficar esas diferencias (Debería tender al número phi=https://www.google.com/search?q=numero+phi&oq=numero+phi&gs_lcrp=EgZjaHJvbWUyBggAEEUYOdIBCDI1NDVqMGoxqAIAsAIA&sourceid=chrome&ie=UTF-8)\n",
    "- Agregar al plot de las diferencias una recta horizontal punteada para el valor de phi=1,618033988749894... y ver si las diferencias tienden a phi."
   ]
  },
  {
   "cell_type": "code",
   "execution_count": null,
   "metadata": {},
   "outputs": [],
   "source": [
    "def fibonacci_sequence(n: int)-> list:  \n",
    "    fibonacci_numbers = [0, 1]\n",
    "    for i in range(2, n):\n",
    "        next_number = fibonacci_numbers[-1] + fibonacci_numbers[-2]\n",
    "        fibonacci_numbers.append(next_number)\n",
    "    return fibonacci_numbers      \n",
    "#print(f\"The first numbers of Fibonacci sequence are {fibonacci_sequence(n)}\")"
   ]
  },
  {
   "cell_type": "code",
   "execution_count": 8,
   "metadata": {},
   "outputs": [
    {
     "data": {
      "text/plain": [
       "[0, 1, 1, 2, 3, 5, 8, 13, 21, 34, 55, 89, 144, 233, 377]"
      ]
     },
     "execution_count": 8,
     "metadata": {},
     "output_type": "execute_result"
    }
   ],
   "source": [
    "fibonacci_sequence(15)"
   ]
  },
  {
   "cell_type": "code",
   "execution_count": 11,
   "metadata": {},
   "outputs": [
    {
     "ename": "SyntaxError",
     "evalue": "incomplete input (977434205.py, line 4)",
     "output_type": "error",
     "traceback": [
      "\u001b[0;36m  Cell \u001b[0;32mIn[11], line 4\u001b[0;36m\u001b[0m\n\u001b[0;31m    \u001b[0m\n\u001b[0m    ^\u001b[0m\n\u001b[0;31mSyntaxError\u001b[0m\u001b[0;31m:\u001b[0m incomplete input\n"
     ]
    }
   ],
   "source": [
    "import matplotlib.pyplot as plt\n",
    "\n",
    "def fibonacci_sequence_plot(fibonacci_sequence(),n:int, ) -> figure :\n",
    "\n",
    "plt.figure(figsize=(10,5))\n",
    "plt.plot(range(n), fibonacci_sequence, marker= 'o', linestyle= '-', color= 'slategray', label= 'Fibonacci sequence from the first {n} numbers')\n",
    "\n",
    "plt.xlabel(\"Index\")\n",
    "plt.ylabel(\"Fibonacci's numbers\")\n",
    "plt.title(\"Fibonacci Sequence\")\n",
    "plt.legend()\n",
    "plt.grid()\n",
    "\n",
    "plt.show()"
   ]
  },
  {
   "cell_type": "code",
   "execution_count": null,
   "metadata": {},
   "outputs": [],
   "source": []
  }
 ],
 "metadata": {
  "kernelspec": {
   "display_name": "env",
   "language": "python",
   "name": "python3"
  },
  "language_info": {
   "codemirror_mode": {
    "name": "ipython",
    "version": 3
   },
   "file_extension": ".py",
   "mimetype": "text/x-python",
   "name": "python",
   "nbconvert_exporter": "python",
   "pygments_lexer": "ipython3",
   "version": "3.10.12"
  }
 },
 "nbformat": 4,
 "nbformat_minor": 2
}
