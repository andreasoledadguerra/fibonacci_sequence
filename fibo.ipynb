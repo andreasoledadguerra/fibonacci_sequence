{
 "cells": [
  {
   "cell_type": "markdown",
   "metadata": {},
   "source": [
    "- Crear una función que genere los n primeros números de la sucesión de fibonacci.\n",
    "- Una función que haga el plot de la sucesión.\n",
    "- Calcular la diferencia entre cada número de la sucesión de fibonacci \"(a_n+1) - (a_n)\", y graficar esas diferencias (Debería tender al número phi=https://www.google.com/search?q=numero+phi&oq=numero+phi&gs_lcrp=EgZjaHJvbWUyBggAEEUYOdIBCDI1NDVqMGoxqAIAsAIA&sourceid=chrome&ie=UTF-8)\n",
    "- Agregar al plot de las diferencias una recta horizontal punteada para el valor de phi=1,618033988749894... y ver si las diferencias tienden a phi."
   ]
  },
  {
   "cell_type": "code",
   "execution_count": 25,
   "metadata": {},
   "outputs": [],
   "source": [
    "import matplotlib.pyplot as plt"
   ]
  },
  {
   "cell_type": "code",
   "execution_count": null,
   "metadata": {},
   "outputs": [],
   "source": [
    "def fibonacci_sequence(n: int)-> list:  \n",
    "    fibonacci_numbers = [0, 1]\n",
    "    for i in range(2, n):\n",
    "        next_number = fibonacci_numbers[-1] + fibonacci_numbers[-2]\n",
    "        fibonacci_numbers.append(next_number)\n",
    "    return fibonacci_numbers\n",
    "\n",
    "fibonacci_sequence_list = fibonacci_sequence()\n",
    "\n",
    "plt.figure(figsize=(10,5))\n",
    "plt.plot(range(fibonacci_sequence()), fibonacci_sequence, marker= 'o', linestyle= '-', color= 'slategray', label= 'Fibonacci sequence from the first {n} numbers')\n",
    "plt.xlabel(\"Index\")\n",
    "plt.ylabel(\"Fibonacci's numbers\")\n",
    "plt.title(\"Fibonacci Sequence\")\n",
    "plt.legend()\n",
    "plt.grid()\n",
    "plt.show()"
   ]
  },
  {
   "cell_type": "code",
   "execution_count": 21,
   "metadata": {},
   "outputs": [],
   "source": [
    "\n",
    "\n",
    "def fibonacci_sequence_plot(fibonacci_sequence: list):\n",
    " \n"
   ]
  },
  {
   "cell_type": "code",
   "execution_count": 24,
   "metadata": {},
   "outputs": [],
   "source": [
    "# Calcular la diferencia entre cada número de la sucesión de fibonacci \n",
    "# \"(a_n+1) - (a_n)\", \n",
    "# y graficar esas diferencias (Debería tender al número phi)\n",
    "\n",
    "# me va a convenir llamar 'fibonacci_sequence' como variable (es un lista), \n",
    "# para que luego pueda usarla como variable en golden_number()\n",
    "def golden_number():\n",
    "    fibonacci_sequence_list = []\n",
    "    for i in fibonacci_sequence_list:\n",
    "        minus = fibonacci_sequence_list[-2] - fibonacci_sequence_list[-1]\n",
    "        fibonacci_sequence_list.append(minus)\n",
    "    return fibonacci_sequence_list\n",
    "    "
   ]
  },
  {
   "cell_type": "code",
   "execution_count": null,
   "metadata": {},
   "outputs": [],
   "source": [
    "import matplotlib.pyplot as plt\n",
    "\n",
    "def golden_number_plot(fibonacci_sequence_list: list, n: int):\n",
    " \n",
    "    plt.figure(figsize=(10,5))\n",
    "    plt.plot(range(5), fibonacci_sequence_list, marker= 'o', linestyle= '-', color= 'slategray', label= 'Fibonacci sequence from the first {n} numbers')\n",
    "\n",
    "    plt.xlabel(\"Index\")\n",
    "    plt.ylabel(\"Fibonacci's sequence list\")\n",
    "    plt.title(\"Golden number\")\n",
    "    plt.legend()\n",
    "    plt.grid()\n",
    "\n",
    "    plt.show()"
   ]
  }
 ],
 "metadata": {
  "kernelspec": {
   "display_name": "env",
   "language": "python",
   "name": "python3"
  },
  "language_info": {
   "codemirror_mode": {
    "name": "ipython",
    "version": 3
   },
   "file_extension": ".py",
   "mimetype": "text/x-python",
   "name": "python",
   "nbconvert_exporter": "python",
   "pygments_lexer": "ipython3",
   "version": "3.10.12"
  }
 },
 "nbformat": 4,
 "nbformat_minor": 2
}
